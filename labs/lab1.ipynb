{
 "cells": [
  {
   "cell_type": "markdown",
   "metadata": {},
   "source": [
    "# Lab 1: Nearest Neighbor Regression and Overfitting"
   ]
  },
  {
   "cell_type": "markdown",
   "metadata": {},
   "source": [
    "This is based on the notebook file [01 in Aurélien Geron's github page](https://github.com/ageron/handson-ml)"
   ]
  },
  {
   "cell_type": "code",
   "execution_count": 2,
   "metadata": {},
   "outputs": [
    {
     "name": "stdout",
     "output_type": "stream",
     "text": [
      "3.6.3 |Anaconda custom (64-bit)| (default, Nov  3 2017, 12:34:11) \n",
      "[GCC 4.2.1 Compatible Clang 4.0.1 (tags/RELEASE_401/final)]\n"
     ]
    }
   ],
   "source": [
    "import sys\n",
    "print(sys.version)"
   ]
  },
  {
   "cell_type": "code",
   "execution_count": 2,
   "metadata": {
    "collapsed": true,
    "slideshow": {
     "slide_type": "-"
    }
   },
   "outputs": [],
   "source": [
    "# Import the necessary packages\n",
    "import numpy as np\n",
    "import pandas as pd\n",
    "import matplotlib.pyplot as plt\n",
    "import seaborn as sns\n",
    "from sklearn.model_selection import LeaveOneOut\n",
    "from sklearn import linear_model, neighbors\n",
    "%matplotlib inline\n",
    "plt.style.use('ggplot')\n",
    "sns.set()\n",
    "\n",
    "# Where to save the figures\n",
    "PROJECT_ROOT_DIR = \"..\"\n",
    "datapath = PROJECT_ROOT_DIR + \"/data/lifesat/\""
   ]
  },
  {
   "cell_type": "markdown",
   "metadata": {},
   "source": [
    "# Load and prepare data"
   ]
  },
  {
   "cell_type": "code",
   "execution_count": 5,
   "metadata": {
    "collapsed": true
   },
   "outputs": [],
   "source": [
    "# Download CSV from http://stats.oecd.org/index.aspx?DataSetCode=BLI\n",
    "oecd_bli = pd.read_csv(datapath+\"oecd_bli_2015.csv\", thousands=',')\n",
    "oecd_bli = oecd_bli[oecd_bli[\"INEQUALITY\"]==\"TOT\"]\n",
    "oecd_bli = oecd_bli.pivot(index=\"Country\", columns=\"Indicator\", values=\"Value\")"
   ]
  },
  {
   "cell_type": "code",
   "execution_count": 6,
   "metadata": {},
   "outputs": [
    {
     "data": {
      "text/plain": [
       "Index(['Air pollution', 'Assault rate', 'Consultation on rule-making',\n",
       "       'Dwellings without basic facilities', 'Educational attainment',\n",
       "       'Employees working very long hours', 'Employment rate', 'Homicide rate',\n",
       "       'Household net adjusted disposable income',\n",
       "       'Household net financial wealth', 'Housing expenditure', 'Job security',\n",
       "       'Life expectancy', 'Life satisfaction', 'Long-term unemployment rate',\n",
       "       'Personal earnings', 'Quality of support network', 'Rooms per person',\n",
       "       'Self-reported health', 'Student skills',\n",
       "       'Time devoted to leisure and personal care', 'Voter turnout',\n",
       "       'Water quality', 'Years in education'],\n",
       "      dtype='object', name='Indicator')"
      ]
     },
     "execution_count": 6,
     "metadata": {},
     "output_type": "execute_result"
    }
   ],
   "source": [
    "oecd_bli.columns"
   ]
  },
  {
   "cell_type": "code",
   "execution_count": 8,
   "metadata": {},
   "outputs": [
    {
     "data": {
      "text/html": [
       "<div>\n",
       "<style scoped>\n",
       "    .dataframe tbody tr th:only-of-type {\n",
       "        vertical-align: middle;\n",
       "    }\n",
       "\n",
       "    .dataframe tbody tr th {\n",
       "        vertical-align: top;\n",
       "    }\n",
       "\n",
       "    .dataframe thead th {\n",
       "        text-align: right;\n",
       "    }\n",
       "</style>\n",
       "<table border=\"1\" class=\"dataframe\">\n",
       "  <thead>\n",
       "    <tr style=\"text-align: right;\">\n",
       "      <th>Indicator</th>\n",
       "      <th>Air pollution</th>\n",
       "      <th>Assault rate</th>\n",
       "      <th>Consultation on rule-making</th>\n",
       "      <th>Dwellings without basic facilities</th>\n",
       "      <th>Educational attainment</th>\n",
       "      <th>Employees working very long hours</th>\n",
       "      <th>Employment rate</th>\n",
       "      <th>Homicide rate</th>\n",
       "      <th>Household net adjusted disposable income</th>\n",
       "      <th>Household net financial wealth</th>\n",
       "      <th>...</th>\n",
       "      <th>Long-term unemployment rate</th>\n",
       "      <th>Personal earnings</th>\n",
       "      <th>Quality of support network</th>\n",
       "      <th>Rooms per person</th>\n",
       "      <th>Self-reported health</th>\n",
       "      <th>Student skills</th>\n",
       "      <th>Time devoted to leisure and personal care</th>\n",
       "      <th>Voter turnout</th>\n",
       "      <th>Water quality</th>\n",
       "      <th>Years in education</th>\n",
       "    </tr>\n",
       "    <tr>\n",
       "      <th>Country</th>\n",
       "      <th></th>\n",
       "      <th></th>\n",
       "      <th></th>\n",
       "      <th></th>\n",
       "      <th></th>\n",
       "      <th></th>\n",
       "      <th></th>\n",
       "      <th></th>\n",
       "      <th></th>\n",
       "      <th></th>\n",
       "      <th></th>\n",
       "      <th></th>\n",
       "      <th></th>\n",
       "      <th></th>\n",
       "      <th></th>\n",
       "      <th></th>\n",
       "      <th></th>\n",
       "      <th></th>\n",
       "      <th></th>\n",
       "      <th></th>\n",
       "      <th></th>\n",
       "    </tr>\n",
       "  </thead>\n",
       "  <tbody>\n",
       "    <tr>\n",
       "      <th>Australia</th>\n",
       "      <td>13.0</td>\n",
       "      <td>2.1</td>\n",
       "      <td>10.5</td>\n",
       "      <td>1.1</td>\n",
       "      <td>76.0</td>\n",
       "      <td>14.02</td>\n",
       "      <td>72.0</td>\n",
       "      <td>0.8</td>\n",
       "      <td>31588.0</td>\n",
       "      <td>47657.0</td>\n",
       "      <td>...</td>\n",
       "      <td>1.08</td>\n",
       "      <td>50449.0</td>\n",
       "      <td>92.0</td>\n",
       "      <td>2.3</td>\n",
       "      <td>85.0</td>\n",
       "      <td>512.0</td>\n",
       "      <td>14.41</td>\n",
       "      <td>93.0</td>\n",
       "      <td>91.0</td>\n",
       "      <td>19.4</td>\n",
       "    </tr>\n",
       "    <tr>\n",
       "      <th>Austria</th>\n",
       "      <td>27.0</td>\n",
       "      <td>3.4</td>\n",
       "      <td>7.1</td>\n",
       "      <td>1.0</td>\n",
       "      <td>83.0</td>\n",
       "      <td>7.61</td>\n",
       "      <td>72.0</td>\n",
       "      <td>0.4</td>\n",
       "      <td>31173.0</td>\n",
       "      <td>49887.0</td>\n",
       "      <td>...</td>\n",
       "      <td>1.19</td>\n",
       "      <td>45199.0</td>\n",
       "      <td>89.0</td>\n",
       "      <td>1.6</td>\n",
       "      <td>69.0</td>\n",
       "      <td>500.0</td>\n",
       "      <td>14.46</td>\n",
       "      <td>75.0</td>\n",
       "      <td>94.0</td>\n",
       "      <td>17.0</td>\n",
       "    </tr>\n",
       "    <tr>\n",
       "      <th>Belgium</th>\n",
       "      <td>21.0</td>\n",
       "      <td>6.6</td>\n",
       "      <td>4.5</td>\n",
       "      <td>2.0</td>\n",
       "      <td>72.0</td>\n",
       "      <td>4.57</td>\n",
       "      <td>62.0</td>\n",
       "      <td>1.1</td>\n",
       "      <td>28307.0</td>\n",
       "      <td>83876.0</td>\n",
       "      <td>...</td>\n",
       "      <td>3.88</td>\n",
       "      <td>48082.0</td>\n",
       "      <td>94.0</td>\n",
       "      <td>2.2</td>\n",
       "      <td>74.0</td>\n",
       "      <td>509.0</td>\n",
       "      <td>15.71</td>\n",
       "      <td>89.0</td>\n",
       "      <td>87.0</td>\n",
       "      <td>18.9</td>\n",
       "    </tr>\n",
       "    <tr>\n",
       "      <th>Brazil</th>\n",
       "      <td>18.0</td>\n",
       "      <td>7.9</td>\n",
       "      <td>4.0</td>\n",
       "      <td>6.7</td>\n",
       "      <td>45.0</td>\n",
       "      <td>10.41</td>\n",
       "      <td>67.0</td>\n",
       "      <td>25.5</td>\n",
       "      <td>11664.0</td>\n",
       "      <td>6844.0</td>\n",
       "      <td>...</td>\n",
       "      <td>1.97</td>\n",
       "      <td>17177.0</td>\n",
       "      <td>90.0</td>\n",
       "      <td>1.6</td>\n",
       "      <td>69.0</td>\n",
       "      <td>402.0</td>\n",
       "      <td>14.97</td>\n",
       "      <td>79.0</td>\n",
       "      <td>72.0</td>\n",
       "      <td>16.3</td>\n",
       "    </tr>\n",
       "    <tr>\n",
       "      <th>Canada</th>\n",
       "      <td>15.0</td>\n",
       "      <td>1.3</td>\n",
       "      <td>10.5</td>\n",
       "      <td>0.2</td>\n",
       "      <td>89.0</td>\n",
       "      <td>3.94</td>\n",
       "      <td>72.0</td>\n",
       "      <td>1.5</td>\n",
       "      <td>29365.0</td>\n",
       "      <td>67913.0</td>\n",
       "      <td>...</td>\n",
       "      <td>0.90</td>\n",
       "      <td>46911.0</td>\n",
       "      <td>92.0</td>\n",
       "      <td>2.5</td>\n",
       "      <td>89.0</td>\n",
       "      <td>522.0</td>\n",
       "      <td>14.25</td>\n",
       "      <td>61.0</td>\n",
       "      <td>91.0</td>\n",
       "      <td>17.2</td>\n",
       "    </tr>\n",
       "  </tbody>\n",
       "</table>\n",
       "<p>5 rows × 24 columns</p>\n",
       "</div>"
      ],
      "text/plain": [
       "Indicator  Air pollution  Assault rate  Consultation on rule-making  \\\n",
       "Country                                                               \n",
       "Australia           13.0           2.1                         10.5   \n",
       "Austria             27.0           3.4                          7.1   \n",
       "Belgium             21.0           6.6                          4.5   \n",
       "Brazil              18.0           7.9                          4.0   \n",
       "Canada              15.0           1.3                         10.5   \n",
       "\n",
       "Indicator  Dwellings without basic facilities  Educational attainment  \\\n",
       "Country                                                                 \n",
       "Australia                                 1.1                    76.0   \n",
       "Austria                                   1.0                    83.0   \n",
       "Belgium                                   2.0                    72.0   \n",
       "Brazil                                    6.7                    45.0   \n",
       "Canada                                    0.2                    89.0   \n",
       "\n",
       "Indicator  Employees working very long hours  Employment rate  Homicide rate  \\\n",
       "Country                                                                        \n",
       "Australia                              14.02             72.0            0.8   \n",
       "Austria                                 7.61             72.0            0.4   \n",
       "Belgium                                 4.57             62.0            1.1   \n",
       "Brazil                                 10.41             67.0           25.5   \n",
       "Canada                                  3.94             72.0            1.5   \n",
       "\n",
       "Indicator  Household net adjusted disposable income  \\\n",
       "Country                                               \n",
       "Australia                                   31588.0   \n",
       "Austria                                     31173.0   \n",
       "Belgium                                     28307.0   \n",
       "Brazil                                      11664.0   \n",
       "Canada                                      29365.0   \n",
       "\n",
       "Indicator  Household net financial wealth         ...          \\\n",
       "Country                                           ...           \n",
       "Australia                         47657.0         ...           \n",
       "Austria                           49887.0         ...           \n",
       "Belgium                           83876.0         ...           \n",
       "Brazil                             6844.0         ...           \n",
       "Canada                            67913.0         ...           \n",
       "\n",
       "Indicator  Long-term unemployment rate  Personal earnings  \\\n",
       "Country                                                     \n",
       "Australia                         1.08            50449.0   \n",
       "Austria                           1.19            45199.0   \n",
       "Belgium                           3.88            48082.0   \n",
       "Brazil                            1.97            17177.0   \n",
       "Canada                            0.90            46911.0   \n",
       "\n",
       "Indicator  Quality of support network  Rooms per person  Self-reported health  \\\n",
       "Country                                                                         \n",
       "Australia                        92.0               2.3                  85.0   \n",
       "Austria                          89.0               1.6                  69.0   \n",
       "Belgium                          94.0               2.2                  74.0   \n",
       "Brazil                           90.0               1.6                  69.0   \n",
       "Canada                           92.0               2.5                  89.0   \n",
       "\n",
       "Indicator  Student skills  Time devoted to leisure and personal care  \\\n",
       "Country                                                                \n",
       "Australia           512.0                                      14.41   \n",
       "Austria             500.0                                      14.46   \n",
       "Belgium             509.0                                      15.71   \n",
       "Brazil              402.0                                      14.97   \n",
       "Canada              522.0                                      14.25   \n",
       "\n",
       "Indicator  Voter turnout  Water quality  Years in education  \n",
       "Country                                                      \n",
       "Australia           93.0           91.0                19.4  \n",
       "Austria             75.0           94.0                17.0  \n",
       "Belgium             89.0           87.0                18.9  \n",
       "Brazil              79.0           72.0                16.3  \n",
       "Canada              61.0           91.0                17.2  \n",
       "\n",
       "[5 rows x 24 columns]"
      ]
     },
     "execution_count": 8,
     "metadata": {},
     "output_type": "execute_result"
    }
   ],
   "source": [
    "oecd_bli.head()"
   ]
  },
  {
   "cell_type": "code",
   "execution_count": 10,
   "metadata": {
    "collapsed": true
   },
   "outputs": [],
   "source": [
    "# Load and prepare GDP per capita data\n",
    "\n",
    "# Download data from http://goo.gl/j1MSKe (=> imf.org)\n",
    "gdp_per_capita = pd.read_csv(datapath+\"gdp_per_capita.csv\", thousands=',', delimiter='\\t',\n",
    "                             encoding='latin1', na_values=\"n/a\")\n",
    "gdp_per_capita.rename(columns={\"2015\": \"GDP per capita\"}, inplace=True)\n",
    "gdp_per_capita.set_index(\"Country\", inplace=True)"
   ]
  },
  {
   "cell_type": "code",
   "execution_count": 11,
   "metadata": {},
   "outputs": [
    {
     "data": {
      "text/html": [
       "<div>\n",
       "<style scoped>\n",
       "    .dataframe tbody tr th:only-of-type {\n",
       "        vertical-align: middle;\n",
       "    }\n",
       "\n",
       "    .dataframe tbody tr th {\n",
       "        vertical-align: top;\n",
       "    }\n",
       "\n",
       "    .dataframe thead th {\n",
       "        text-align: right;\n",
       "    }\n",
       "</style>\n",
       "<table border=\"1\" class=\"dataframe\">\n",
       "  <thead>\n",
       "    <tr style=\"text-align: right;\">\n",
       "      <th></th>\n",
       "      <th>Subject Descriptor</th>\n",
       "      <th>Units</th>\n",
       "      <th>Scale</th>\n",
       "      <th>Country/Series-specific Notes</th>\n",
       "      <th>GDP per capita</th>\n",
       "      <th>Estimates Start After</th>\n",
       "    </tr>\n",
       "    <tr>\n",
       "      <th>Country</th>\n",
       "      <th></th>\n",
       "      <th></th>\n",
       "      <th></th>\n",
       "      <th></th>\n",
       "      <th></th>\n",
       "      <th></th>\n",
       "    </tr>\n",
       "  </thead>\n",
       "  <tbody>\n",
       "    <tr>\n",
       "      <th>Afghanistan</th>\n",
       "      <td>Gross domestic product per capita, current prices</td>\n",
       "      <td>U.S. dollars</td>\n",
       "      <td>Units</td>\n",
       "      <td>See notes for:  Gross domestic product, curren...</td>\n",
       "      <td>599.994</td>\n",
       "      <td>2013.0</td>\n",
       "    </tr>\n",
       "    <tr>\n",
       "      <th>Albania</th>\n",
       "      <td>Gross domestic product per capita, current prices</td>\n",
       "      <td>U.S. dollars</td>\n",
       "      <td>Units</td>\n",
       "      <td>See notes for:  Gross domestic product, curren...</td>\n",
       "      <td>3995.383</td>\n",
       "      <td>2010.0</td>\n",
       "    </tr>\n",
       "    <tr>\n",
       "      <th>Algeria</th>\n",
       "      <td>Gross domestic product per capita, current prices</td>\n",
       "      <td>U.S. dollars</td>\n",
       "      <td>Units</td>\n",
       "      <td>See notes for:  Gross domestic product, curren...</td>\n",
       "      <td>4318.135</td>\n",
       "      <td>2014.0</td>\n",
       "    </tr>\n",
       "    <tr>\n",
       "      <th>Angola</th>\n",
       "      <td>Gross domestic product per capita, current prices</td>\n",
       "      <td>U.S. dollars</td>\n",
       "      <td>Units</td>\n",
       "      <td>See notes for:  Gross domestic product, curren...</td>\n",
       "      <td>4100.315</td>\n",
       "      <td>2014.0</td>\n",
       "    </tr>\n",
       "    <tr>\n",
       "      <th>Antigua and Barbuda</th>\n",
       "      <td>Gross domestic product per capita, current prices</td>\n",
       "      <td>U.S. dollars</td>\n",
       "      <td>Units</td>\n",
       "      <td>See notes for:  Gross domestic product, curren...</td>\n",
       "      <td>14414.302</td>\n",
       "      <td>2011.0</td>\n",
       "    </tr>\n",
       "  </tbody>\n",
       "</table>\n",
       "</div>"
      ],
      "text/plain": [
       "                                                    Subject Descriptor  \\\n",
       "Country                                                                  \n",
       "Afghanistan          Gross domestic product per capita, current prices   \n",
       "Albania              Gross domestic product per capita, current prices   \n",
       "Algeria              Gross domestic product per capita, current prices   \n",
       "Angola               Gross domestic product per capita, current prices   \n",
       "Antigua and Barbuda  Gross domestic product per capita, current prices   \n",
       "\n",
       "                            Units  Scale  \\\n",
       "Country                                    \n",
       "Afghanistan          U.S. dollars  Units   \n",
       "Albania              U.S. dollars  Units   \n",
       "Algeria              U.S. dollars  Units   \n",
       "Angola               U.S. dollars  Units   \n",
       "Antigua and Barbuda  U.S. dollars  Units   \n",
       "\n",
       "                                         Country/Series-specific Notes  \\\n",
       "Country                                                                  \n",
       "Afghanistan          See notes for:  Gross domestic product, curren...   \n",
       "Albania              See notes for:  Gross domestic product, curren...   \n",
       "Algeria              See notes for:  Gross domestic product, curren...   \n",
       "Angola               See notes for:  Gross domestic product, curren...   \n",
       "Antigua and Barbuda  See notes for:  Gross domestic product, curren...   \n",
       "\n",
       "                     GDP per capita  Estimates Start After  \n",
       "Country                                                     \n",
       "Afghanistan                 599.994                 2013.0  \n",
       "Albania                    3995.383                 2010.0  \n",
       "Algeria                    4318.135                 2014.0  \n",
       "Angola                     4100.315                 2014.0  \n",
       "Antigua and Barbuda       14414.302                 2011.0  "
      ]
     },
     "execution_count": 11,
     "metadata": {},
     "output_type": "execute_result"
    }
   ],
   "source": [
    "gdp_per_capita.head()"
   ]
  },
  {
   "cell_type": "code",
   "execution_count": 12,
   "metadata": {},
   "outputs": [
    {
     "data": {
      "text/html": [
       "<div>\n",
       "<style scoped>\n",
       "    .dataframe tbody tr th:only-of-type {\n",
       "        vertical-align: middle;\n",
       "    }\n",
       "\n",
       "    .dataframe tbody tr th {\n",
       "        vertical-align: top;\n",
       "    }\n",
       "\n",
       "    .dataframe thead th {\n",
       "        text-align: right;\n",
       "    }\n",
       "</style>\n",
       "<table border=\"1\" class=\"dataframe\">\n",
       "  <thead>\n",
       "    <tr style=\"text-align: right;\">\n",
       "      <th></th>\n",
       "      <th>Air pollution</th>\n",
       "      <th>Assault rate</th>\n",
       "      <th>Consultation on rule-making</th>\n",
       "      <th>Dwellings without basic facilities</th>\n",
       "      <th>Educational attainment</th>\n",
       "      <th>Employees working very long hours</th>\n",
       "      <th>Employment rate</th>\n",
       "      <th>Homicide rate</th>\n",
       "      <th>Household net adjusted disposable income</th>\n",
       "      <th>Household net financial wealth</th>\n",
       "      <th>...</th>\n",
       "      <th>Time devoted to leisure and personal care</th>\n",
       "      <th>Voter turnout</th>\n",
       "      <th>Water quality</th>\n",
       "      <th>Years in education</th>\n",
       "      <th>Subject Descriptor</th>\n",
       "      <th>Units</th>\n",
       "      <th>Scale</th>\n",
       "      <th>Country/Series-specific Notes</th>\n",
       "      <th>GDP per capita</th>\n",
       "      <th>Estimates Start After</th>\n",
       "    </tr>\n",
       "    <tr>\n",
       "      <th>Country</th>\n",
       "      <th></th>\n",
       "      <th></th>\n",
       "      <th></th>\n",
       "      <th></th>\n",
       "      <th></th>\n",
       "      <th></th>\n",
       "      <th></th>\n",
       "      <th></th>\n",
       "      <th></th>\n",
       "      <th></th>\n",
       "      <th></th>\n",
       "      <th></th>\n",
       "      <th></th>\n",
       "      <th></th>\n",
       "      <th></th>\n",
       "      <th></th>\n",
       "      <th></th>\n",
       "      <th></th>\n",
       "      <th></th>\n",
       "      <th></th>\n",
       "      <th></th>\n",
       "    </tr>\n",
       "  </thead>\n",
       "  <tbody>\n",
       "    <tr>\n",
       "      <th>Brazil</th>\n",
       "      <td>18.0</td>\n",
       "      <td>7.9</td>\n",
       "      <td>4.0</td>\n",
       "      <td>6.7</td>\n",
       "      <td>45.0</td>\n",
       "      <td>10.41</td>\n",
       "      <td>67.0</td>\n",
       "      <td>25.5</td>\n",
       "      <td>11664.0</td>\n",
       "      <td>6844.0</td>\n",
       "      <td>...</td>\n",
       "      <td>14.97</td>\n",
       "      <td>79.0</td>\n",
       "      <td>72.0</td>\n",
       "      <td>16.3</td>\n",
       "      <td>Gross domestic product per capita, current prices</td>\n",
       "      <td>U.S. dollars</td>\n",
       "      <td>Units</td>\n",
       "      <td>See notes for:  Gross domestic product, curren...</td>\n",
       "      <td>8669.998</td>\n",
       "      <td>2014.0</td>\n",
       "    </tr>\n",
       "    <tr>\n",
       "      <th>Mexico</th>\n",
       "      <td>30.0</td>\n",
       "      <td>12.8</td>\n",
       "      <td>9.0</td>\n",
       "      <td>4.2</td>\n",
       "      <td>37.0</td>\n",
       "      <td>28.83</td>\n",
       "      <td>61.0</td>\n",
       "      <td>23.4</td>\n",
       "      <td>13085.0</td>\n",
       "      <td>9056.0</td>\n",
       "      <td>...</td>\n",
       "      <td>13.89</td>\n",
       "      <td>63.0</td>\n",
       "      <td>67.0</td>\n",
       "      <td>14.4</td>\n",
       "      <td>Gross domestic product per capita, current prices</td>\n",
       "      <td>U.S. dollars</td>\n",
       "      <td>Units</td>\n",
       "      <td>See notes for:  Gross domestic product, curren...</td>\n",
       "      <td>9009.280</td>\n",
       "      <td>2015.0</td>\n",
       "    </tr>\n",
       "    <tr>\n",
       "      <th>Russia</th>\n",
       "      <td>15.0</td>\n",
       "      <td>3.8</td>\n",
       "      <td>2.5</td>\n",
       "      <td>15.1</td>\n",
       "      <td>94.0</td>\n",
       "      <td>0.16</td>\n",
       "      <td>69.0</td>\n",
       "      <td>12.8</td>\n",
       "      <td>19292.0</td>\n",
       "      <td>3412.0</td>\n",
       "      <td>...</td>\n",
       "      <td>14.97</td>\n",
       "      <td>65.0</td>\n",
       "      <td>56.0</td>\n",
       "      <td>16.0</td>\n",
       "      <td>Gross domestic product per capita, current prices</td>\n",
       "      <td>U.S. dollars</td>\n",
       "      <td>Units</td>\n",
       "      <td>See notes for:  Gross domestic product, curren...</td>\n",
       "      <td>9054.914</td>\n",
       "      <td>2015.0</td>\n",
       "    </tr>\n",
       "    <tr>\n",
       "      <th>Turkey</th>\n",
       "      <td>35.0</td>\n",
       "      <td>5.0</td>\n",
       "      <td>5.5</td>\n",
       "      <td>12.7</td>\n",
       "      <td>34.0</td>\n",
       "      <td>40.86</td>\n",
       "      <td>50.0</td>\n",
       "      <td>1.2</td>\n",
       "      <td>14095.0</td>\n",
       "      <td>3251.0</td>\n",
       "      <td>...</td>\n",
       "      <td>13.42</td>\n",
       "      <td>88.0</td>\n",
       "      <td>62.0</td>\n",
       "      <td>16.4</td>\n",
       "      <td>Gross domestic product per capita, current prices</td>\n",
       "      <td>U.S. dollars</td>\n",
       "      <td>Units</td>\n",
       "      <td>See notes for:  Gross domestic product, curren...</td>\n",
       "      <td>9437.372</td>\n",
       "      <td>2013.0</td>\n",
       "    </tr>\n",
       "    <tr>\n",
       "      <th>Hungary</th>\n",
       "      <td>15.0</td>\n",
       "      <td>3.6</td>\n",
       "      <td>7.9</td>\n",
       "      <td>4.8</td>\n",
       "      <td>82.0</td>\n",
       "      <td>3.19</td>\n",
       "      <td>58.0</td>\n",
       "      <td>1.3</td>\n",
       "      <td>15442.0</td>\n",
       "      <td>13277.0</td>\n",
       "      <td>...</td>\n",
       "      <td>15.04</td>\n",
       "      <td>62.0</td>\n",
       "      <td>77.0</td>\n",
       "      <td>17.6</td>\n",
       "      <td>Gross domestic product per capita, current prices</td>\n",
       "      <td>U.S. dollars</td>\n",
       "      <td>Units</td>\n",
       "      <td>See notes for:  Gross domestic product, curren...</td>\n",
       "      <td>12239.894</td>\n",
       "      <td>2015.0</td>\n",
       "    </tr>\n",
       "  </tbody>\n",
       "</table>\n",
       "<p>5 rows × 30 columns</p>\n",
       "</div>"
      ],
      "text/plain": [
       "         Air pollution  Assault rate  Consultation on rule-making  \\\n",
       "Country                                                             \n",
       "Brazil            18.0           7.9                          4.0   \n",
       "Mexico            30.0          12.8                          9.0   \n",
       "Russia            15.0           3.8                          2.5   \n",
       "Turkey            35.0           5.0                          5.5   \n",
       "Hungary           15.0           3.6                          7.9   \n",
       "\n",
       "         Dwellings without basic facilities  Educational attainment  \\\n",
       "Country                                                               \n",
       "Brazil                                  6.7                    45.0   \n",
       "Mexico                                  4.2                    37.0   \n",
       "Russia                                 15.1                    94.0   \n",
       "Turkey                                 12.7                    34.0   \n",
       "Hungary                                 4.8                    82.0   \n",
       "\n",
       "         Employees working very long hours  Employment rate  Homicide rate  \\\n",
       "Country                                                                      \n",
       "Brazil                               10.41             67.0           25.5   \n",
       "Mexico                               28.83             61.0           23.4   \n",
       "Russia                                0.16             69.0           12.8   \n",
       "Turkey                               40.86             50.0            1.2   \n",
       "Hungary                               3.19             58.0            1.3   \n",
       "\n",
       "         Household net adjusted disposable income  \\\n",
       "Country                                             \n",
       "Brazil                                    11664.0   \n",
       "Mexico                                    13085.0   \n",
       "Russia                                    19292.0   \n",
       "Turkey                                    14095.0   \n",
       "Hungary                                   15442.0   \n",
       "\n",
       "         Household net financial wealth          ...            \\\n",
       "Country                                          ...             \n",
       "Brazil                           6844.0          ...             \n",
       "Mexico                           9056.0          ...             \n",
       "Russia                           3412.0          ...             \n",
       "Turkey                           3251.0          ...             \n",
       "Hungary                         13277.0          ...             \n",
       "\n",
       "         Time devoted to leisure and personal care  Voter turnout  \\\n",
       "Country                                                             \n",
       "Brazil                                       14.97           79.0   \n",
       "Mexico                                       13.89           63.0   \n",
       "Russia                                       14.97           65.0   \n",
       "Turkey                                       13.42           88.0   \n",
       "Hungary                                      15.04           62.0   \n",
       "\n",
       "         Water quality  Years in education  \\\n",
       "Country                                      \n",
       "Brazil            72.0                16.3   \n",
       "Mexico            67.0                14.4   \n",
       "Russia            56.0                16.0   \n",
       "Turkey            62.0                16.4   \n",
       "Hungary           77.0                17.6   \n",
       "\n",
       "                                        Subject Descriptor         Units  \\\n",
       "Country                                                                    \n",
       "Brazil   Gross domestic product per capita, current prices  U.S. dollars   \n",
       "Mexico   Gross domestic product per capita, current prices  U.S. dollars   \n",
       "Russia   Gross domestic product per capita, current prices  U.S. dollars   \n",
       "Turkey   Gross domestic product per capita, current prices  U.S. dollars   \n",
       "Hungary  Gross domestic product per capita, current prices  U.S. dollars   \n",
       "\n",
       "         Scale                      Country/Series-specific Notes  \\\n",
       "Country                                                             \n",
       "Brazil   Units  See notes for:  Gross domestic product, curren...   \n",
       "Mexico   Units  See notes for:  Gross domestic product, curren...   \n",
       "Russia   Units  See notes for:  Gross domestic product, curren...   \n",
       "Turkey   Units  See notes for:  Gross domestic product, curren...   \n",
       "Hungary  Units  See notes for:  Gross domestic product, curren...   \n",
       "\n",
       "         GDP per capita  Estimates Start After  \n",
       "Country                                         \n",
       "Brazil         8669.998                 2014.0  \n",
       "Mexico         9009.280                 2015.0  \n",
       "Russia         9054.914                 2015.0  \n",
       "Turkey         9437.372                 2013.0  \n",
       "Hungary       12239.894                 2015.0  \n",
       "\n",
       "[5 rows x 30 columns]"
      ]
     },
     "execution_count": 12,
     "metadata": {},
     "output_type": "execute_result"
    }
   ],
   "source": [
    "full_country_stats = pd.merge(left=oecd_bli, right=gdp_per_capita, left_index=True, right_index=True)\n",
    "full_country_stats.sort_values(by=\"GDP per capita\", inplace=True)\n",
    "full_country_stats.head()"
   ]
  },
  {
   "cell_type": "code",
   "execution_count": 4,
   "metadata": {},
   "outputs": [
    {
     "data": {
      "image/png": "[encoded data removed]",
      "text/plain": [
       "<Figure size 576x396 with 1 Axes>"
      ]
     },
     "metadata": {},
     "output_type": "display_data"
    }
   ],
   "source": [
    "_ = full_country_stats.plot(\"GDP per capita\",'Life satisfaction',kind='scatter')"
   ]
  },
  {
   "cell_type": "markdown",
   "metadata": {},
   "source": [
    "Here's the full dataset, and there are other columns.  I will subselect a few of them by hand."
   ]
  },
  {
   "cell_type": "code",
   "execution_count": 13,
   "metadata": {
    "collapsed": true
   },
   "outputs": [],
   "source": [
    "xvars = ['Self-reported health','Water quality','Quality of support network','GDP per capita']"
   ]
  },
  {
   "cell_type": "code",
   "execution_count": 14,
   "metadata": {
    "collapsed": true
   },
   "outputs": [],
   "source": [
    "X = np.array(full_country_stats[xvars])\n",
    "y = np.array(full_country_stats['Life satisfaction'])"
   ]
  },
  {
   "cell_type": "code",
   "execution_count": 15,
   "metadata": {},
   "outputs": [
    {
     "data": {
      "text/plain": [
       "(36, 4)"
      ]
     },
     "metadata": {},
     "output_type": "display_data"
    },
    {
     "data": {
      "text/plain": [
       "(36,)"
      ]
     },
     "metadata": {},
     "output_type": "display_data"
    }
   ],
   "source": [
    "display(X.shape)\n",
    "display(y.shape)"
   ]
  },
  {
   "cell_type": "markdown",
   "metadata": {},
   "source": [
    "I will define the following functions to expedite the LOO risk and the Empirical risk."
   ]
  },
  {
   "cell_type": "code",
   "execution_count": 16,
   "metadata": {
    "collapsed": true
   },
   "outputs": [],
   "source": [
    "def loo_risk(X,y,regmod):\n",
    "    \"\"\"\n",
    "    Construct the leave-one-out square error risk for a regression model\n",
    "    \n",
    "    Input: design matrix, X, response vector, y, a regression model, regmod\n",
    "    Output: scalar LOO risk\n",
    "    \"\"\"\n",
    "    loo = LeaveOneOut()\n",
    "    loo.get_n_splits(X)\n",
    "    loo_losses = []\n",
    "    for train_index, test_index in loo.split(X):\n",
    "        X_train, X_test = X[train_index], X[test_index]\n",
    "        y_train, y_test = y[train_index], y[test_index]\n",
    "        regmod.fit(X_train,y_train)\n",
    "        y_hat = regmod.predict(X_test)\n",
    "        loss = np.sum((y_hat - y_test)**2)\n",
    "        loo_losses.append(loss)\n",
    "    return np.mean(loo_losses)\n",
    "\n",
    "def emp_risk(X,y,regmod):\n",
    "    \"\"\"\n",
    "    Return the empirical risk for square error loss\n",
    "    \n",
    "    Input: design matrix, X, response vector, y, a regression model, regmod\n",
    "    Output: scalar empirical risk\n",
    "    \"\"\"\n",
    "    regmod.fit(X,y)\n",
    "    y_hat = regmod.predict(X)\n",
    "    return np.mean((y_hat - y)**2)"
   ]
  },
  {
   "cell_type": "code",
   "execution_count": 17,
   "metadata": {},
   "outputs": [
    {
     "name": "stdout",
     "output_type": "stream",
     "text": [
      "LOO Risk: 0.348022001422\n",
      "Emp Risk: 0.2703035744\n"
     ]
    }
   ],
   "source": [
    "lin1 = linear_model.LinearRegression(fit_intercept=False)\n",
    "print('LOO Risk: '+ str(loo_risk(X,y,lin1)))\n",
    "print('Emp Risk: ' + str(emp_risk(X,y,lin1)))"
   ]
  },
  {
   "cell_type": "markdown",
   "metadata": {},
   "source": [
    "As you can see, the empirical risk is much less than the leave-one-out risk!  This can happen in more dimensions."
   ]
  },
  {
   "cell_type": "markdown",
   "metadata": {},
   "source": [
    "## Nearest neighbor regression"
   ]
  },
  {
   "cell_type": "markdown",
   "metadata": {},
   "source": [
    "Use the method described here: http://scikit-learn.org/stable/modules/generated/sklearn.neighbors.KNeighborsRegressor.html\n",
    "\n",
    "I have already imported the necessary module, so you just need to use the regression object (like we used LinearRegression)"
   ]
  },
  {
   "cell_type": "code",
   "execution_count": 20,
   "metadata": {
    "collapsed": true
   },
   "outputs": [],
   "source": [
    "# knn = neighbors.KNeighborsRegressor(n_neighbors=5)"
   ]
  },
  {
   "cell_type": "markdown",
   "metadata": {},
   "source": [
    "**Exercise 1** For each k from 1 to 10 compute the nearest neighbors empirical risk and LOO risk. Plot these as a function of k and reflect on the bias-variance tradeoff here. (Hint: use the previously defined functions)"
   ]
  },
  {
   "cell_type": "code",
   "execution_count": 41,
   "metadata": {
    "collapsed": true
   },
   "outputs": [],
   "source": [
    "k_range = list(range(1,31))"
   ]
  },
  {
   "cell_type": "code",
   "execution_count": 42,
   "metadata": {},
   "outputs": [
    {
     "data": {
      "text/plain": [
       "<matplotlib.legend.Legend at 0x1a13f83518>"
      ]
     },
     "execution_count": 42,
     "metadata": {},
     "output_type": "execute_result"
    },
    {
     "data": {
      "image/png": "[encoded data removed]",
      "text/plain": [
       "<Figure size 576x396 with 1 Axes>"
      ]
     },
     "metadata": {},
     "output_type": "display_data"
    }
   ],
   "source": [
    "LOO = [loo_risk(X, y, neighbors.KNeighborsRegressor(n_neighbors=k)) for k in k_range]\n",
    "EMP = [emp_risk(X, y, neighbors.KNeighborsRegressor(n_neighbors=k)) for k in k_range]\n",
    "plt.plot(k_range, LOO, label='LOO Risk')\n",
    "plt.plot(k_range, EMP, label='Emp Risk')\n",
    "plt.legend()"
   ]
  },
  {
   "cell_type": "markdown",
   "metadata": {},
   "source": [
    "**Exercise 2** Do the same but for the reduced predictor variables below..."
   ]
  },
  {
   "cell_type": "code",
   "execution_count": 43,
   "metadata": {
    "collapsed": true
   },
   "outputs": [],
   "source": [
    "X = np.array(full_country_stats[['Self-reported health']])"
   ]
  },
  {
   "cell_type": "code",
   "execution_count": 44,
   "metadata": {},
   "outputs": [
    {
     "data": {
      "text/plain": [
       "<matplotlib.legend.Legend at 0x1a13feb630>"
      ]
     },
     "execution_count": 44,
     "metadata": {},
     "output_type": "execute_result"
    },
    {
     "data": {
      "image/png": "[encoded data removed]",
      "text/plain": [
       "<Figure size 576x396 with 1 Axes>"
      ]
     },
     "metadata": {},
     "output_type": "display_data"
    }
   ],
   "source": [
    "LOO = [loo_risk(X, y, neighbors.KNeighborsRegressor(n_neighbors=k)) for k in k_range]\n",
    "EMP = [emp_risk(X, y, neighbors.KNeighborsRegressor(n_neighbors=k)) for k in k_range]\n",
    "plt.plot(k_range, LOO, label='LOO Risk')\n",
    "plt.plot(k_range, EMP, label='Emp Risk')\n",
    "plt.legend()"
   ]
  }
 ],
 "metadata": {
  "anaconda-cloud": {},
  "kernelspec": {
   "display_name": "Python 3",
   "language": "python",
   "name": "python3"
  },
  "language_info": {
   "codemirror_mode": {
    "name": "ipython",
    "version": 3
   },
   "file_extension": ".py",
   "mimetype": "text/x-python",
   "name": "python",
   "nbconvert_exporter": "python",
   "pygments_lexer": "ipython3",
   "version": "3.6.3"
  },
  "nav_menu": {},
  "toc": {
   "nav_menu": {},
   "number_sections": true,
   "sideBar": true,
   "skip_h1_title": true,
   "toc_cell": false,
   "toc_position": {},
   "toc_section_display": "block",
   "toc_window_display": true
  },
  "toc_position": {
   "height": "616px",
   "left": "0px",
   "right": "20px",
   "top": "106px",
   "width": "213px"
  }
 },
 "nbformat": 4,
 "nbformat_minor": 1
}
